{
  "nbformat": 4,
  "nbformat_minor": 0,
  "metadata": {
    "colab": {
      "provenance": []
    },
    "kernelspec": {
      "name": "python3",
      "display_name": "Python 3"
    },
    "language_info": {
      "name": "python"
    }
  },
  "cells": [
    {
      "cell_type": "code",
      "execution_count": 2,
      "metadata": {
        "id": "qnL8EZjcm4Hi"
      },
      "outputs": [],
      "source": [
        "import numpy as np\n",
        "import pandas as pd\n"
      ]
    },
    {
      "cell_type": "code",
      "source": [
        "songDf = pd.read_csv(\"all_songs_data_processed.csv\")"
      ],
      "metadata": {
        "id": "I0p8m_o7nEhT"
      },
      "execution_count": 4,
      "outputs": []
    },
    {
      "cell_type": "code",
      "source": [
        "sexualWords = {}\n",
        "curseWords = {\n",
        "    \"fuck\", \"fucks\", \"fucked\", \"fucking\",\n",
        "    \"shit\", \"shits\", \"shitty\", \"shitted\", \"shitting\",\n",
        "    \"bitch\", \"bitches\", \"bitching\",\n",
        "    \"ass\", \"asses\", \"asshole\", \"assholes\",\n",
        "    \"damn\", \"damned\", \"damning\",\n",
        "    \"hell\", \"hells\",\n",
        "    \"bastard\", \"bastards\", \"bastardly\",\n",
        "    \"crap\", \"craps\", \"crapped\", \"crapping\",\n",
        "    \"damnation\", \"damnations\",\n",
        "    \"goddamn\", \"goddamned\", \"goddamning\", \"goddamns\",\n",
        "    \"motherfucker\", \"motherfuckers\", \"motherfucking\",\n",
        "    \"cunt\", \"cunts\", \"cunted\", \"cunting\",\n",
        "    \"dick\", \"dicks\", \"dicked\", \"dicking\",\n",
        "    \"cock\", \"cocks\", \"cocked\", \"cocking\",\n",
        "    \"piss\", \"pisses\", \"pissed\", \"pissing\",\n",
        "    \"shithead\", \"shitheads\",\n",
        "    \"fuckhead\", \"fuckheads\",\n",
        "    \"asshat\", \"asshats\",\n",
        "    \"twat\", \"twats\",\n",
        "    \"bollocks\", \"bollockses\",\n",
        "    \"wanker\", \"wankers\",\n",
        "    \"prick\", \"pricks\",\n",
        "    \"douchebag\", \"douchebags\",\n",
        "    \"arse\", \"arses\", \"arsed\", \"arsing\",\n",
        "    \"bitchy\", \"bitchier\", \"bitchiest\",\n",
        "    \"shitty\", \"shittier\", \"shittiest\",\n",
        "    \"fuckwit\", \"fuckwits\",\n",
        "    \"arsehole\", \"arseholes\",\n",
        "    \"cunty\", \"cuntier\", \"cuntiest\",\n",
        "    \"dickhead\", \"dickheads\",\n",
        "    \"asshat\", \"asshats\",\n",
        "    \"dickwad\", \"dickwads\",\n",
        "    \"shitbag\", \"shitbags\",\n",
        "    \"twatface\", \"twatfaces\",\n",
        "    \"shitfaced\", \"shitfacing\",\n",
        "    \"cockface\", \"cockfaces\",\n",
        "    \"bullshit\", \"bullshits\", \"bullshitted\", \"bullshitting\",\n",
        "    \"fucktard\", \"fucktards\",\n",
        "    \"pissedoff\", \"pissedoffs\",\n",
        "    \"asswipe\", \"asswipes\",\n",
        "    \"bastardized\", \"bastardizes\", \"bastardizing\",\n",
        "    \"fuckery\",\n",
        "    \"crapshoot\", \"crapshoots\",\n",
        "    \"damnatory\", \"damnatories\",\n",
        "    \"goddammit\",\n",
        "    \"hellish\", \"hellishly\",\n",
        "    \"motherfucking\", \"motherfuckings\",\n",
        "    \"pisshead\", \"pissheads\",\n",
        "    \"shitty\", \"shittier\", \"shittiest\",\n",
        "    \"shittily\", \"shittiness\",\n",
        "    \"shite\", \"shites\", \"shited\", \"shiting\",\n",
        "    \"fuckedup\", \"fuckedups\",\n",
        "    \"fuckup\", \"fuckups\",\n",
        "    \"dickish\", \"dickishly\",\n",
        "    \"dickweed\", \"dickweeds\",\n",
        "    \"douchey\", \"douchier\", \"douchiest\",\n",
        "    \"freaking\", \"freakings\",\n",
        "    \"goddamn\", \"goddamns\",\n",
        "    \"motherfuck\", \"motherfucks\", \"motherfucker\", \"motherfuckers\",\n",
        "    \"pissedoffness\",\n",
        "    \"pissy\", \"pissier\", \"pissiest\",\n",
        "    \"shitty\", \"shittily\", \"shittier\", \"shittiest\", \"shittiness\",\n",
        "    \"assclown\", \"assclowns\",\n",
        "    \"dickless\", \"dicklessness\",\n",
        "    \"fuckhead\", \"fuckheads\",\n",
        "    \"motherfucker\", \"motherfuckers\",\n",
        "    \"pissedoff\", \"pissedoffs\",\n",
        "    \"shitbag\", \"shitbags\",\n",
        "    \"shitstorm\", \"shitstorms\",\n",
        "    \"assbackwards\",\n",
        "    \"assclownery\",\n",
        "    \"asshatery\",\n",
        "    \"assholeish\", \"assholeishly\",\n",
        "    \"bitchiness\",\n",
        "    \"bitchtastic\",\n",
        "    \"clusterfuck\", \"clusterfucks\",\n",
        "    \"cocksucker\", \"cocksuckers\",\n",
        "    \"cuntfaced\", \"cuntfaces\",\n",
        "    \"cuntwhistle\", \"cuntwhistles\",\n",
        "    \"dickheaded\", \"dickheadedly\",\n",
        "    \"dickishness\",\n",
        "    \"fuckwad\", \"fuckwads\",\n",
        "    \"shitbrick\", \"shitbricks\",\n",
        "    \"shithead\", \"shitheads\",\n",
        "    \"shitkicker\", \"shitkickers\",\n",
        "    \"shitload\", \"shitloads\",\n",
        "    \"shitshow\", \"shitshows\",\n",
        "    \"shitstain\", \"shitstains\",\n",
        "    \"shitstorm\", \"shitstorms\",\n",
        "    \"shitwit\", \"shitwits\",\n",
        "    \"twatwaffle\", \"twatwaffles\",\n",
        "    \"wankerish\", \"wankerishly\"\n",
        "}\n",
        "\n",
        "religiousWords = {\n",
        "    \"god\", \"allah\", \"jesus\", \"christ\", \"buddha\", \"krishna\", \"yahweh\", \"shiva\",\n",
        "    \"moses\", \"abraham\", \"muhammad\", \"guru\", \"saint\", \"spirit\", \"faith\", \"prayer\",\n",
        "    \"worship\", \"church\", \"temple\", \"mosque\", \"bible\", \"quran\", \"veda\", \"torah\",\n",
        "    \"angel\", \"heaven\", \"hell\", \"sin\", \"forgiveness\", \"salvation\", \"divine\", \"holy\",\n",
        "    \"miracle\", \"prophet\", \"soul\", \"sacred\", \"devotion\", \"pilgrimage\", \"ritual\",\n",
        "    \"ceremony\", \"blessing\", \"curse\", \"commandment\", \"belief\", \"eternity\", \"afterlife\",\n",
        "    \"rebirth\", \"meditation\", \"enlightenment\", \"nirvana\", \"karma\", \"dharma\",\n",
        "    \"apostle\", \"cross\", \"crucifixion\", \"resurrection\", \"savior\", \"atonement\",\n",
        "    \"martyr\", \"ascension\", \"sinners\", \"grace\", \"mercy\", \"judgment\", \"sacrifice\",\n",
        "    \"sermon\", \"serenity\", \"holiness\", \"sabbath\", \"paradise\", \"hades\", \"devil\",\n",
        "    \"demon\", \"angel\", \"heresy\", \"orthodox\", \"revelation\", \"belief\", \"purity\",\n",
        "    \"pilgrim\", \"altar\", \"chant\", \"doctrine\", \"gospel\", \"psalm\", \"hymn\", \"ritual\",\n",
        "    \"proclamation\", \"prophecy\", \"testament\", \"scripture\", \"sanctuary\", \"vow\",\n",
        "    \"penance\", \"repentance\", \"sacrament\", \"tabernacle\", \"adoration\", \"monastery\",\n",
        "    \"nun\", \"monk\", \"bishop\", \"clergy\", \"laity\", \"congregation\", \"sect\", \"denomination\",\n",
        "    \"calvary\", \"covenant\", \"communion\", \"baptism\", \"confession\", \"ordination\",\n",
        "    \"pope\", \"priest\", \"deacon\", \"altar\", \"crucifix\", \"psaltery\", \"grail\", \"chalices\",\n",
        "    \"vestment\", \"mitre\", \"rosary\", \"relic\", \"medallion\", \"thurible\", \"sanctuary\",\n",
        "    \"vestry\", \"lectionary\", \"missal\", \"lection\", \"lectionary\", \"litany\", \"novena\",\n",
        "    \"collect\", \"exorcism\", \"liturgy\", \"evangelist\", \"catechism\", \"trinity\",\n",
        "    \"benediction\", \"intercession\", \"veneration\", \"ministry\", \"testimony\",\n",
        "    \"blasphemy\", \"orthodoxy\", \"apocrypha\", \"ark\", \"gospel\", \"lent\", \"epiphany\",\n",
        "    \"passover\", \"advent\", \"easter\", \"pentecost\", \"holyweek\", \"ramadan\", \"diwali\",\n",
        "    \"yomkippur\", \"eid\", \"saturnalia\", \"shrovetuesday\", \"chanukah\", \"christmas\",\n",
        "    \"hannukah\", \"goodfriday\", \"ashwednesday\", \"sukkot\", \"purim\", \"vesak\",\n",
        "    \"kumbhmela\", \"eidalfitr\", \"eidaladha\", \"roshhashanah\", \"hanumanjayanti\",\n",
        "    \"ashura\", \"basantpanchami\", \"mahashivratri\", \"gurunanakjayanti\",\n",
        "    \"divalifestival\", \"navratri\", \"rakshabandhan\", \"makarsankranti\",\n",
        "    \"krishnaasthami\", \"gurupurnima\", \"lohri\", \"diwali\", \"holi\", \"onam\",\n",
        "    \"palmsonday\", \"maundythursday\", \"holysaturday\", \"ascensionday\", \"saintsday\",\n",
        "    \"allhallows\", \"ststephensday\", \"epiphany\", \"candlemas\", \"assumptionday\",\n",
        "    \"stvalentinesday\", \"stpatrickday\", \"annunciation\", \"stgeorgesday\",\n",
        "    \"standrewsday\", \"stnicholasday\", \"eastermonday\", \"whitmonday\", \"trinitysunday\",\n",
        "    \"corpuschristi\", \"saintjohnthebaptist\", \"allsaintsday\", \"stcatherinesday\",\n",
        "    \"stbarbarasday\", \"stluciasday\", \"stpatricksday\", \"adventcalendar\"\n",
        "}"
      ],
      "metadata": {
        "id": "JzFipXs5n7bz"
      },
      "execution_count": 22,
      "outputs": []
    },
    {
      "cell_type": "code",
      "source": [
        "def numWords(lyrics, setToCheck):\n",
        "  toReturn = 0\n",
        "\n",
        "  try:\n",
        "    listWords = lyrics.split()\n",
        "    for i in listWords:\n",
        "      try:\n",
        "        i = i.lower()\n",
        "      except AttributeError:\n",
        "        continue\n",
        "      if i in setToCheck:\n",
        "        toReturn += 1\n",
        "\n",
        "  except AttributeError:\n",
        "    return toReturn\n",
        "\n",
        "\n",
        "  return toReturn"
      ],
      "metadata": {
        "id": "VjtS3q-ipV3n"
      },
      "execution_count": 16,
      "outputs": []
    },
    {
      "cell_type": "code",
      "source": [],
      "metadata": {
        "id": "KXK090g4qamZ"
      },
      "execution_count": null,
      "outputs": []
    },
    {
      "cell_type": "code",
      "source": [
        "songDf['ReligiousCount'] = songDf['Lyrics'].apply(lambda x: numWords(x, religiousWords))"
      ],
      "metadata": {
        "id": "Jo-E8oM3pxCh"
      },
      "execution_count": 20,
      "outputs": []
    },
    {
      "cell_type": "code",
      "source": [
        "songDf['CurseCount'] = songDf['Lyrics'].apply(lambda x: numWords(x, curseWords))"
      ],
      "metadata": {
        "id": "4va_NCYzsY1T"
      },
      "execution_count": 34,
      "outputs": []
    },
    {
      "cell_type": "code",
      "source": [
        "import matplotlib.pyplot as plt\n"
      ],
      "metadata": {
        "id": "2UKnlSwQujWo"
      },
      "execution_count": 24,
      "outputs": []
    },
    {
      "cell_type": "code",
      "source": [
        "byYear = songDf.groupby('Year')\n",
        "songDf['CurseCountByYear'] = byYear['CurseCount'].transform('sum')"
      ],
      "metadata": {
        "id": "S8dHNfoXumiU"
      },
      "execution_count": 37,
      "outputs": []
    },
    {
      "cell_type": "code",
      "source": [
        "byYear = songDf[['Year', 'CurseCountByYear']].reset_index()\n",
        "byYear = byYear.drop_duplicates(subset=['Year', 'CurseCountByYear']).reset_index(drop=True)"
      ],
      "metadata": {
        "id": "yoW90m57vhJl"
      },
      "execution_count": 38,
      "outputs": []
    },
    {
      "cell_type": "code",
      "source": [
        "plt.scatter(byYear['Year'], byYear['CurseCountByYear'])"
      ],
      "metadata": {
        "colab": {
          "base_uri": "https://localhost:8080/",
          "height": 448
        },
        "id": "hDh1XsnNwJC3",
        "outputId": "cd182568-e340-4c84-b8a5-f225cbd0bbbe"
      },
      "execution_count": 39,
      "outputs": [
        {
          "output_type": "execute_result",
          "data": {
            "text/plain": [
              "<matplotlib.collections.PathCollection at 0x789a769eb5e0>"
            ]
          },
          "metadata": {},
          "execution_count": 39
        },
        {
          "output_type": "display_data",
          "data": {
            "text/plain": [
              "<Figure size 640x480 with 1 Axes>"
            ],
            "image/png": "[encoded data removed]"
          },
          "metadata": {}
        }
      ]
    },
    {
      "cell_type": "code",
      "source": [
        "plt.scatter(byYear['Year'], byYear['CurseCountByYear'] / 100)\n",
        "plt.xlabel('Year')\n",
        "plt.ylabel('Curse Count')\n",
        "plt.title('Average number of Curse Words in Songs overtime')"
      ],
      "metadata": {
        "colab": {
          "base_uri": "https://localhost:8080/",
          "height": 490
        },
        "id": "wtVyjwgTwtUN",
        "outputId": "e73ebd10-a914-4147-810d-d6c9f90d6875"
      },
      "execution_count": 42,
      "outputs": [
        {
          "output_type": "execute_result",
          "data": {
            "text/plain": [
              "Text(0.5, 1.0, 'Average number of Curse Words in Songs overtime')"
            ]
          },
          "metadata": {},
          "execution_count": 42
        },
        {
          "output_type": "display_data",
          "data": {
            "text/plain": [
              "<Figure size 640x480 with 1 Axes>"
            ],
            "image/png": "[encoded data removed]"
          },
          "metadata": {}
        }
      ]
    }
  ]
}